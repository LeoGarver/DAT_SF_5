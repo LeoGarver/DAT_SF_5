{
 "metadata": {
  "name": ""
 },
 "nbformat": 3,
 "nbformat_minor": 0,
 "worksheets": [
  {
   "cells": [
    {
     "cell_type": "markdown",
     "metadata": {},
     "source": [
      "## Import the usual packages"
     ]
    },
    {
     "cell_type": "code",
     "collapsed": false,
     "input": [
      "import numpy as np\n",
      "import pandas as pd\n",
      "\n",
      "from sklearn.cross_validation import train_test_split\n",
      "import matplotlib.pyplot as plt"
     ],
     "language": "python",
     "metadata": {},
     "outputs": [],
     "prompt_number": 48
    },
    {
     "cell_type": "code",
     "collapsed": false,
     "input": [
      "%pylab inline"
     ],
     "language": "python",
     "metadata": {},
     "outputs": [
      {
       "output_type": "stream",
       "stream": "stdout",
       "text": [
        "Populating the interactive namespace from numpy and matplotlib\n"
       ]
      }
     ],
     "prompt_number": 142
    },
    {
     "cell_type": "markdown",
     "metadata": {},
     "source": [
      "## Read the csv and create a Pandas dataframe for analysis"
     ]
    },
    {
     "cell_type": "code",
     "collapsed": false,
     "input": [
      "iris = pd.read_csv('iris_data.csv',names= ['SepalLength','SepalWidth','PetalLength','PetalWidth','TargetNames','Target'])"
     ],
     "language": "python",
     "metadata": {},
     "outputs": [],
     "prompt_number": 49
    },
    {
     "cell_type": "code",
     "collapsed": false,
     "input": [
      "for i in range(len(iris)):\n",
      "    if iris['TargetNames'][i]== 'Iris-setosa':\n",
      "        iris['Target'][i]=0\n",
      "    elif iris['TargetNames'][i]== 'Iris-versicolor':\n",
      "        iris['Target'][i]=1\n",
      "    elif iris['TargetNames'][i]== 'Iris-virginica':\n",
      "        iris['Target'][i]=2"
     ],
     "language": "python",
     "metadata": {},
     "outputs": [],
     "prompt_number": 50
    },
    {
     "cell_type": "code",
     "collapsed": false,
     "input": [
      "iris = iris.dropna(how='any')"
     ],
     "language": "python",
     "metadata": {},
     "outputs": [],
     "prompt_number": 51
    },
    {
     "cell_type": "code",
     "collapsed": false,
     "input": [
      "x= iris[['SepalLength','SepalWidth','PetalLength','PetalWidth']]\n",
      "Names= iris[['TargetNames']]\n",
      "y = iris[['Target']]"
     ],
     "language": "python",
     "metadata": {},
     "outputs": [],
     "prompt_number": 52
    },
    {
     "cell_type": "markdown",
     "metadata": {},
     "source": [
      "## 1. Implement KNN classification, using the sklearn package."
     ]
    },
    {
     "cell_type": "code",
     "collapsed": false,
     "input": [
      "x_train, x_test, y_train, y_test = train_test_split( x, y, test_size=0.20, random_state=0)"
     ],
     "language": "python",
     "metadata": {},
     "outputs": [],
     "prompt_number": 53
    },
    {
     "cell_type": "code",
     "collapsed": false,
     "input": [
      "from sklearn.neighbors import KNeighborsClassifier"
     ],
     "language": "python",
     "metadata": {},
     "outputs": [],
     "prompt_number": 54
    },
    {
     "cell_type": "code",
     "collapsed": false,
     "input": [
      "myknn = KNeighborsClassifier(3).fit(x_train,y_train.ravel())"
     ],
     "language": "python",
     "metadata": {},
     "outputs": [],
     "prompt_number": 55
    },
    {
     "cell_type": "code",
     "collapsed": false,
     "input": [
      "myknn.score(x_test, y_test)"
     ],
     "language": "python",
     "metadata": {},
     "outputs": [
      {
       "metadata": {},
       "output_type": "pyout",
       "prompt_number": 56,
       "text": [
        "0.96666666666666667"
       ]
      }
     ],
     "prompt_number": 56
    },
    {
     "cell_type": "markdown",
     "metadata": {},
     "source": [
      "## 2. Implement cross-validation for your KNN classifier."
     ]
    },
    {
     "cell_type": "code",
     "collapsed": false,
     "input": [
      "from sklearn.cross_validation import KFold"
     ],
     "language": "python",
     "metadata": {},
     "outputs": [],
     "prompt_number": 64
    },
    {
     "cell_type": "code",
     "collapsed": false,
     "input": [
      "X= x.values\n",
      "Y= y.values.ravel()"
     ],
     "language": "python",
     "metadata": {},
     "outputs": [],
     "prompt_number": 88
    },
    {
     "cell_type": "code",
     "collapsed": false,
     "input": [
      "def cross_validate(x, y, classifier, k_fold) :\n",
      "\n",
      "    # derive a set of (random) training and testing indices\n",
      "    k_fold_indices = KFold( len(x), n_folds=k_fold,\n",
      "                           indices=True, shuffle=True,\n",
      "                           random_state=0)\n",
      "\n",
      "    k_score_total = 0\n",
      "    # for each training and testing slices run the classifier, and score the results\n",
      "    for train_slice, test_slice in k_fold_indices :\n",
      "        model = classifier(x[[ train_slice  ]],\n",
      "                         y[[ train_slice  ]])\n",
      "\n",
      "        k_score = model.score(x[[ test_slice ]],\n",
      "                              y[[ test_slice ]])\n",
      "\n",
      "        k_score_total += k_score\n",
      "\n",
      "    # return the average accuracy\n",
      "    return k_score_total/k_fold"
     ],
     "language": "python",
     "metadata": {},
     "outputs": [],
     "prompt_number": 93
    },
    {
     "cell_type": "code",
     "collapsed": false,
     "input": [
      "cross_validate(X, Y, KNeighborsClassifier(3).fit, 5)"
     ],
     "language": "python",
     "metadata": {},
     "outputs": [
      {
       "metadata": {},
       "output_type": "pyout",
       "prompt_number": 94,
       "text": [
        "0.95333333333333337"
       ]
      }
     ],
     "prompt_number": 94
    },
    {
     "cell_type": "markdown",
     "metadata": {},
     "source": [
      "## 3. Use your KNN classifier and cross-validation code from (1) and (2) above to determine the optimal value of K (number of nearest neighbors to consult) for this Iris dataset."
     ]
    },
    {
     "cell_type": "code",
     "collapsed": false,
     "input": [
      "kscores={i+1:cross_validate(X, Y, KNeighborsClassifier(i+1).fit, 5) for i in range(len(iris))}"
     ],
     "language": "python",
     "metadata": {},
     "outputs": [],
     "prompt_number": 148
    },
    {
     "cell_type": "code",
     "collapsed": false,
     "input": [
      "kscores"
     ],
     "language": "python",
     "metadata": {},
     "outputs": [
      {
       "metadata": {},
       "output_type": "pyout",
       "prompt_number": 149,
       "text": [
        "{1: 0.95999999999999996,\n",
        " 2: 0.94000000000000006,\n",
        " 3: 0.95333333333333337,\n",
        " 4: 0.95999999999999996,\n",
        " 5: 0.95999999999999996,\n",
        " 6: 0.95333333333333337,\n",
        " 7: 0.95333333333333337,\n",
        " 8: 0.95999999999999996,\n",
        " 9: 0.95999999999999996,\n",
        " 10: 0.95999999999999996,\n",
        " 11: 0.96666666666666656,\n",
        " 12: 0.95999999999999996,\n",
        " 13: 0.95999999999999996,\n",
        " 14: 0.95333333333333337,\n",
        " 15: 0.96666666666666656,\n",
        " 16: 0.94666666666666666,\n",
        " 17: 0.94666666666666666,\n",
        " 18: 0.94000000000000006,\n",
        " 19: 0.94666666666666666,\n",
        " 20: 0.94666666666666666,\n",
        " 21: 0.94666666666666666,\n",
        " 22: 0.95333333333333337,\n",
        " 23: 0.94666666666666666,\n",
        " 24: 0.94666666666666666,\n",
        " 25: 0.94000000000000006,\n",
        " 26: 0.94666666666666666,\n",
        " 27: 0.94000000000000006,\n",
        " 28: 0.94666666666666666,\n",
        " 29: 0.94666666666666666,\n",
        " 30: 0.94000000000000006,\n",
        " 31: 0.94000000000000006,\n",
        " 32: 0.92666666666666675,\n",
        " 33: 0.94000000000000006,\n",
        " 34: 0.94000000000000006,\n",
        " 35: 0.93333333333333335,\n",
        " 36: 0.93333333333333335,\n",
        " 37: 0.93333333333333335,\n",
        " 38: 0.93333333333333335,\n",
        " 39: 0.92666666666666675,\n",
        " 40: 0.92666666666666675,\n",
        " 41: 0.92666666666666675,\n",
        " 42: 0.92666666666666675,\n",
        " 43: 0.92666666666666675,\n",
        " 44: 0.92666666666666675,\n",
        " 45: 0.92666666666666675,\n",
        " 46: 0.91333333333333344,\n",
        " 47: 0.91333333333333344,\n",
        " 48: 0.90666666666666662,\n",
        " 49: 0.91333333333333344,\n",
        " 50: 0.90666666666666662,\n",
        " 51: 0.91333333333333344,\n",
        " 52: 0.91333333333333344,\n",
        " 53: 0.91333333333333344,\n",
        " 54: 0.91333333333333344,\n",
        " 55: 0.90666666666666684,\n",
        " 56: 0.90000000000000013,\n",
        " 57: 0.90666666666666684,\n",
        " 58: 0.89333333333333331,\n",
        " 59: 0.91333333333333344,\n",
        " 60: 0.89333333333333331,\n",
        " 61: 0.90000000000000002,\n",
        " 62: 0.88666666666666671,\n",
        " 63: 0.88666666666666671,\n",
        " 64: 0.88000000000000012,\n",
        " 65: 0.88000000000000012,\n",
        " 66: 0.88000000000000012,\n",
        " 67: 0.88000000000000012,\n",
        " 68: 0.87333333333333341,\n",
        " 69: 0.8600000000000001,\n",
        " 70: 0.81333333333333346,\n",
        " 71: 0.79333333333333345,\n",
        " 72: 0.81333333333333346,\n",
        " 73: 0.80666666666666664,\n",
        " 74: 0.71999999999999997,\n",
        " 75: 0.69333333333333325,\n",
        " 76: 0.68666666666666676,\n",
        " 77: 0.67999999999999994,\n",
        " 78: 0.68000000000000005,\n",
        " 79: 0.65333333333333343,\n",
        " 80: 0.55333333333333334,\n",
        " 81: 0.55333333333333334,\n",
        " 82: 0.55333333333333334,\n",
        " 83: 0.55333333333333334,\n",
        " 84: 0.55333333333333334,\n",
        " 85: 0.55999999999999994,\n",
        " 86: 0.55999999999999994,\n",
        " 87: 0.55333333333333334,\n",
        " 88: 0.55333333333333334,\n",
        " 89: 0.55333333333333334,\n",
        " 90: 0.55333333333333334,\n",
        " 91: 0.55333333333333334,\n",
        " 92: 0.55333333333333334,\n",
        " 93: 0.54666666666666663,\n",
        " 94: 0.54666666666666663,\n",
        " 95: 0.54666666666666663,\n",
        " 96: 0.53999999999999992,\n",
        " 97: 0.53999999999999992,\n",
        " 98: 0.53999999999999992,\n",
        " 99: 0.53999999999999992,\n",
        " 100: 0.53999999999999992,\n",
        " 101: 0.53999999999999992,\n",
        " 102: 0.53999999999999992,\n",
        " 103: 0.53999999999999992,\n",
        " 104: 0.53999999999999992,\n",
        " 105: 0.53999999999999992,\n",
        " 106: 0.53999999999999992,\n",
        " 107: 0.52666666666666662,\n",
        " 108: 0.52666666666666662,\n",
        " 109: 0.51333333333333331,\n",
        " 110: 0.5066666666666666,\n",
        " 111: 0.5066666666666666,\n",
        " 112: 0.49333333333333335,\n",
        " 113: 0.49333333333333335,\n",
        " 114: 0.49333333333333335,\n",
        " 115: 0.45999999999999996,\n",
        " 116: 0.37333333333333335,\n",
        " 117: 0.35333333333333333,\n",
        " 118: 0.35333333333333333,\n",
        " 119: 0.35333333333333333,\n",
        " 120: 0.23999999999999999,\n",
        " 121: 0.23999999999999999,\n",
        " 122: 0.23999999999999999,\n",
        " 123: 0.23999999999999999,\n",
        " 124: 0.23999999999999999,\n",
        " 125: 0.23999999999999999,\n",
        " 126: 0.23999999999999999,\n",
        " 127: 0.23999999999999999,\n",
        " 128: 0.23999999999999999,\n",
        " 129: 0.23999999999999999,\n",
        " 130: 0.23999999999999999,\n",
        " 131: 0.23999999999999999,\n",
        " 132: 0.23999999999999999,\n",
        " 133: 0.23999999999999999,\n",
        " 134: 0.23999999999999999,\n",
        " 135: 0.23999999999999999,\n",
        " 136: 0.23999999999999999,\n",
        " 137: 0.23999999999999999,\n",
        " 138: 0.23999999999999999,\n",
        " 139: 0.23999999999999999,\n",
        " 140: 0.23999999999999999,\n",
        " 141: 0.23999999999999999,\n",
        " 142: 0.23999999999999999,\n",
        " 143: 0.23999999999999999,\n",
        " 144: 0.23999999999999999,\n",
        " 145: 0.23999999999999999,\n",
        " 146: 0.23999999999999999,\n",
        " 147: 0.23999999999999999,\n",
        " 148: 0.23999999999999999,\n",
        " 149: 0.23999999999999999,\n",
        " 150: 0.23999999999999999}"
       ]
      }
     ],
     "prompt_number": 149
    },
    {
     "cell_type": "code",
     "collapsed": false,
     "input": [
      "bestk=0\n",
      "maxv=0\n",
      "for k, v in kscores.iteritems():\n",
      "    if v>maxv:\n",
      "        maxv=v\n",
      "        bestk=k\n",
      "print bestk, maxv"
     ],
     "language": "python",
     "metadata": {},
     "outputs": [
      {
       "output_type": "stream",
       "stream": "stdout",
       "text": [
        "11 0.966666666667\n"
       ]
      }
     ],
     "prompt_number": 150
    },
    {
     "cell_type": "markdown",
     "metadata": {},
     "source": [
      "##4. Using matplotlib, plot classifier accuracy versus the hyperparameter K for a range of K that you consider interesting."
     ]
    },
    {
     "cell_type": "code",
     "collapsed": false,
     "input": [
      "plt.suptitle('K vs Cross Validation accuracy', fontsize=14)"
     ],
     "language": "python",
     "metadata": {},
     "outputs": [
      {
       "metadata": {},
       "output_type": "pyout",
       "prompt_number": 143,
       "text": [
        "<matplotlib.text.Text at 0x19bf2eb8>"
       ]
      },
      {
       "metadata": {},
       "output_type": "display_data",
       "text": [
        "<matplotlib.figure.Figure at 0x19bceb00>"
       ]
      }
     ],
     "prompt_number": 143
    },
    {
     "cell_type": "code",
     "collapsed": false,
     "input": [
      "plt.scatter(kscores.keys(), kscores.values(), c='b', marker='o',)\n",
      "plt.xlim(-1,80)\n",
      "plt.show()"
     ],
     "language": "python",
     "metadata": {},
     "outputs": [
      {
       "metadata": {},
       "output_type": "display_data",
       "png": "[encoded data removed]",
       "text": [
        "<matplotlib.figure.Figure at 0x19e94be0>"
       ]
      }
     ],
     "prompt_number": 147
    },
    {
     "cell_type": "markdown",
     "metadata": {},
     "source": [
      "## The accuracy of the KNN classification seems to be highest with K in the 4-15 range. Then the accuracy slowly delcines until K~ 65, and then the accuracy declines very quickly"
     ]
    },
    {
     "cell_type": "markdown",
     "metadata": {},
     "source": [
      "##5. OPTIONAL BONUS QUESTION: Using the value of K obtained in (3) above, vary the number of folds used for cross-validation across an interesting range, e.g. [ 2, 3, 5, 6, 10, 15]. How does classifier accuracy vary with the number of folds used? Do you think there exists an optimal number of folds to use for this particular problem? Why or why not?"
     ]
    },
    {
     "cell_type": "code",
     "collapsed": false,
     "input": [
      "numfolds=[2,3,5,6,10,15,25]"
     ],
     "language": "python",
     "metadata": {},
     "outputs": [],
     "prompt_number": 157
    },
    {
     "cell_type": "code",
     "collapsed": false,
     "input": [
      "foldscores={numfolds[i]:cross_validate(X, Y, KNeighborsClassifier(11).fit, numfolds[i]) for i in range(len(numfolds))}"
     ],
     "language": "python",
     "metadata": {},
     "outputs": [],
     "prompt_number": 158
    },
    {
     "cell_type": "code",
     "collapsed": false,
     "input": [
      "foldscores"
     ],
     "language": "python",
     "metadata": {},
     "outputs": [
      {
       "metadata": {},
       "output_type": "pyout",
       "prompt_number": 159,
       "text": [
        "{2: 0.95333333333333337,\n",
        " 3: 0.96666666666666667,\n",
        " 5: 0.96666666666666656,\n",
        " 6: 0.96666666666666667,\n",
        " 10: 0.95999999999999996,\n",
        " 15: 0.96666666666666667,\n",
        " 25: 0.96666666666666656}"
       ]
      }
     ],
     "prompt_number": 159
    },
    {
     "cell_type": "markdown",
     "metadata": {},
     "source": [
      "## The classifier accuracy does not seem to vary greatly with the different number of folds. I think the reason that there is so little difference with this problem is because the iris dataset is fairly predictable and does not contain many outliers."
     ]
    },
    {
     "cell_type": "code",
     "collapsed": false,
     "input": [],
     "language": "python",
     "metadata": {},
     "outputs": []
    }
   ],
   "metadata": {}
  }
 ]
}